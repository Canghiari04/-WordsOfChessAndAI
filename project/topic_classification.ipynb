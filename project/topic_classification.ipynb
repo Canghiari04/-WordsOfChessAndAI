{
 "cells": [
  {
   "cell_type": "markdown",
   "metadata": {},
   "source": [
    "__Obiettivo__\n",
    "\n",
    "Classificare gli articoli scientifici in base ad una lista di _topic_ predefinita.\n",
    "\n",
    "Il notebook implementa una __classificazione multi-label__ di un insieme di paper accademici in base ad una lista di _topic_ precedentemente stilata, riportata all'interno del path __../markdown/topics.md__.\n",
    "Per riuscire nell'intento, è stata attuata una fase preliminare di __preprocessing__, in cui le operazioni principali si suddividono in:\n",
    "- Conversione del testo in minuscolo\n",
    "- Suddivisione in _token_ del periodo analizzato\n",
    "- Rimozione di numeri e punteggiatura ove necessario\n",
    "- Rimozione delle _stopwords_, rese disponibili tramite la libreria __nltk__\n",
    "- __Lemmatizzazione__ di ogni _token_ che costituisca il testo, ossia conversione del termine circoscritto nella sua forma canonica\n",
    "\n",
    "_(Descrivere poi dei risultati ottenuti, magari dei grafici e cosi via)_"
   ]
  },
  {
   "cell_type": "code",
   "execution_count": 20,
   "metadata": {},
   "outputs": [
    {
     "name": "stderr",
     "output_type": "stream",
     "text": [
      "[nltk_data] Downloading package wordnet to /home/matte/nltk_data...\n",
      "[nltk_data]   Package wordnet is already up-to-date!\n",
      "[nltk_data] Downloading package stopwords to /home/matte/nltk_data...\n",
      "[nltk_data]   Package stopwords is already up-to-date!\n"
     ]
    }
   ],
   "source": [
    "import nltk\n",
    "\n",
    "from nltk.corpus import stopwords\n",
    "\n",
    "nltk.download(\"wordnet\")\n",
    "nltk.download(\"stopwords\")\n",
    "set_stopwords = set(stopwords.words(\"english\"))"
   ]
  },
  {
   "cell_type": "code",
   "execution_count": 21,
   "metadata": {},
   "outputs": [],
   "source": [
    "from typing import Dict\n",
    "\n",
    "class Paper:\n",
    "    def __init__(self, title, abstract):\n",
    "        self.title = title\n",
    "        self.abstract = abstract \n",
    "\n",
    "    def get_dict(self) -> Dict[str, str]:\n",
    "        return {\n",
    "            \"Title\": self.title,\n",
    "            \"Abstract\": self.abstract\n",
    "        }"
   ]
  },
  {
   "cell_type": "code",
   "execution_count": 22,
   "metadata": {},
   "outputs": [],
   "source": [
    "import regex\n",
    "\n",
    "from typing import List, Set\n",
    "\n",
    "def define_keywords() -> Dict[str, Set[str]]:\n",
    "    dict_keywords: Dict[str, Set[str]] = {}\n",
    "\n",
    "    with open(\"../markdown/topics.md\", \"r\") as file:\n",
    "        content = file.read()\n",
    "        \n",
    "    categories = regex.findall(r\"### (\\d+)\\.\", content)\n",
    "    for category in categories:\n",
    "        matches = regex.findall(r\"{}\\.[0-9]?(.*\\w)\".format(category), content)\n",
    "        cleaned_matches = [match.strip().replace(\"*\", \"\") for match in matches]\n",
    "\n",
    "        _set = set()\n",
    "        for match in cleaned_matches[1:]:\n",
    "            _set.add(match)\n",
    "\n",
    "        dict_keywords[cleaned_matches[0]] = _set\n",
    "\n",
    "    return dict_keywords\n",
    "\n",
    "keywords = define_keywords()"
   ]
  },
  {
   "cell_type": "code",
   "execution_count": 25,
   "metadata": {},
   "outputs": [],
   "source": [
    "import json\n",
    "\n",
    "from pandas import DataFrame\n",
    "from langdetect import detect\n",
    "from nltk.stem import WordNetLemmatizer\n",
    "from nltk.tokenize import RegexpTokenizer\n",
    "from deep_translator import GoogleTranslator\n",
    "\n",
    "def get_json() -> List[Dict]:\n",
    "    with open(\"../json/grobid/summary.json\", \"r\") as file:\n",
    "        content = file.read()\n",
    "\n",
    "    return json.loads(content)\n",
    "\n",
    "lemmatizer = WordNetLemmatizer()\n",
    "tokenizer = RegexpTokenizer(r\"[a-zA-Z]+\")\n",
    "\n",
    "def preprocess_field(field: str) -> List[str] | None:\n",
    "    try:\n",
    "        if detect(field) != \"en\":\n",
    "            field = GoogleTranslator(source=\"auto\", target=\"en\").translate(text=field)\n",
    "\n",
    "        # Converting field to lower case and remove numbers and dots\n",
    "        text = field.lower()\n",
    "        tokens = tokenizer.tokenize(text)\n",
    "\n",
    "        # Removing words less than two characters and stopwords\n",
    "        tokens = [token for token in tokens if len(token) > 2]\n",
    "        tokens = [token for token in tokens if token not in set_stopwords]\n",
    "\n",
    "        # Applying lemmatizer for each paper's word\n",
    "        return [lemmatizer.lemmatize(token) for token in tokens]\n",
    "    except Exception:\n",
    "        return None\n",
    "\n",
    "def define_papers_dict(_json: List[Dict]) -> Dict[str, Paper]:\n",
    "    dict_papers: Dict[str, Paper] = {}\n",
    "\n",
    "    for _dict in _json:\n",
    "        for key, value in _dict.items():\n",
    "            title = preprocess_field(value[\"Title\"])\n",
    "            abstract = preprocess_field(value[\"Abstract\"])\n",
    "\n",
    "            # Before the assigning the fields will be preproccessed\n",
    "            dict_papers[key] = Paper(title, abstract)\n",
    "\n",
    "    return dict_papers\n",
    "\n",
    "_json = get_json()\n",
    "dict_papers = define_papers_dict(_json)\n",
    "\n",
    "def define_papers_dataframe(_dict: Dict[str, Paper]) -> DataFrame:\n",
    "    records = []\n",
    "\n",
    "    for key, value in _dict.items():\n",
    "        try:\n",
    "            record = {\n",
    "                \"Name\": key,\n",
    "                \"Title\": \" \".join(value.title),\n",
    "                \"Abstract\": \" \".join(value.abstract) \n",
    "            }\n",
    " \n",
    "            records.append(record)\n",
    "        except Exception:\n",
    "            continue\n",
    "    \n",
    "    return DataFrame(records)\n",
    "\n",
    "df_papers = define_papers_dataframe(dict_papers)"
   ]
  },
  {
   "cell_type": "markdown",
   "metadata": {},
   "source": [
    "Possiedo:\n",
    "- Le keyword prese dai topic di Di Iorio\n",
    "- Un dataframe composto da (Name, Title, Abstract) a cui ho applicato preprocessing\n",
    "\n",
    "Ora manca la classificazione."
   ]
  }
 ],
 "metadata": {
  "kernelspec": {
   "display_name": "venv",
   "language": "python",
   "name": "python3"
  },
  "language_info": {
   "codemirror_mode": {
    "name": "ipython",
    "version": 3
   },
   "file_extension": ".py",
   "mimetype": "text/x-python",
   "name": "python",
   "nbconvert_exporter": "python",
   "pygments_lexer": "ipython3",
   "version": "3.12.3"
  }
 },
 "nbformat": 4,
 "nbformat_minor": 2
}
